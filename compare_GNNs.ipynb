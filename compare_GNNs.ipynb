{
  "nbformat": 4,
  "nbformat_minor": 0,
  "metadata": {
    "colab": {
      "provenance": []
    },
    "kernelspec": {
      "name": "python3",
      "display_name": "Python 3"
    },
    "language_info": {
      "name": "python"
    }
  },
  "cells": [
    {
      "cell_type": "code",
      "source": [
        "!pip install networkx"
      ],
      "metadata": {
        "colab": {
          "base_uri": "https://localhost:8080/"
        },
        "id": "j3mI5gl_Dgys",
        "outputId": "c885de06-c672-47f9-d20e-de3c8d54d1fe"
      },
      "execution_count": 1,
      "outputs": [
        {
          "output_type": "stream",
          "name": "stdout",
          "text": [
            "Requirement already satisfied: networkx in /usr/local/lib/python3.11/dist-packages (3.4.2)\n"
          ]
        }
      ]
    },
    {
      "cell_type": "code",
      "source": [
        "!pip install torch-geometric"
      ],
      "metadata": {
        "colab": {
          "base_uri": "https://localhost:8080/"
        },
        "collapsed": true,
        "id": "bBOAMyRS0v2E",
        "outputId": "54bf70f2-a142-467d-b3ef-f1a5a3e687bc"
      },
      "execution_count": 16,
      "outputs": [
        {
          "output_type": "stream",
          "name": "stdout",
          "text": [
            "Collecting torch-geometric\n",
            "  Downloading torch_geometric-2.6.1-py3-none-any.whl.metadata (63 kB)\n",
            "\u001b[?25l     \u001b[90m━━━━━━━━━━━━━━━━━━━━━━━━━━━━━━━━━━━━━━━━\u001b[0m \u001b[32m0.0/63.1 kB\u001b[0m \u001b[31m?\u001b[0m eta \u001b[36m-:--:--\u001b[0m\r\u001b[2K     \u001b[91m━━━━━━━━━━━━━━━━━━━━━━━━━━━━━━━━━━━━━━\u001b[0m\u001b[91m╸\u001b[0m\u001b[90m━\u001b[0m \u001b[32m61.4/63.1 kB\u001b[0m \u001b[31m2.1 MB/s\u001b[0m eta \u001b[36m0:00:01\u001b[0m\r\u001b[2K     \u001b[90m━━━━━━━━━━━━━━━━━━━━━━━━━━━━━━━━━━━━━━━━\u001b[0m \u001b[32m63.1/63.1 kB\u001b[0m \u001b[31m1.5 MB/s\u001b[0m eta \u001b[36m0:00:00\u001b[0m\n",
            "\u001b[?25hRequirement already satisfied: aiohttp in /usr/local/lib/python3.11/dist-packages (from torch-geometric) (3.11.15)\n",
            "Requirement already satisfied: fsspec in /usr/local/lib/python3.11/dist-packages (from torch-geometric) (2025.3.2)\n",
            "Requirement already satisfied: jinja2 in /usr/local/lib/python3.11/dist-packages (from torch-geometric) (3.1.6)\n",
            "Requirement already satisfied: numpy in /usr/local/lib/python3.11/dist-packages (from torch-geometric) (2.0.2)\n",
            "Requirement already satisfied: psutil>=5.8.0 in /usr/local/lib/python3.11/dist-packages (from torch-geometric) (5.9.5)\n",
            "Requirement already satisfied: pyparsing in /usr/local/lib/python3.11/dist-packages (from torch-geometric) (3.2.3)\n",
            "Requirement already satisfied: requests in /usr/local/lib/python3.11/dist-packages (from torch-geometric) (2.32.3)\n",
            "Requirement already satisfied: tqdm in /usr/local/lib/python3.11/dist-packages (from torch-geometric) (4.67.1)\n",
            "Requirement already satisfied: aiohappyeyeballs>=2.3.0 in /usr/local/lib/python3.11/dist-packages (from aiohttp->torch-geometric) (2.6.1)\n",
            "Requirement already satisfied: aiosignal>=1.1.2 in /usr/local/lib/python3.11/dist-packages (from aiohttp->torch-geometric) (1.3.2)\n",
            "Requirement already satisfied: attrs>=17.3.0 in /usr/local/lib/python3.11/dist-packages (from aiohttp->torch-geometric) (25.3.0)\n",
            "Requirement already satisfied: frozenlist>=1.1.1 in /usr/local/lib/python3.11/dist-packages (from aiohttp->torch-geometric) (1.6.0)\n",
            "Requirement already satisfied: multidict<7.0,>=4.5 in /usr/local/lib/python3.11/dist-packages (from aiohttp->torch-geometric) (6.4.3)\n",
            "Requirement already satisfied: propcache>=0.2.0 in /usr/local/lib/python3.11/dist-packages (from aiohttp->torch-geometric) (0.3.1)\n",
            "Requirement already satisfied: yarl<2.0,>=1.17.0 in /usr/local/lib/python3.11/dist-packages (from aiohttp->torch-geometric) (1.20.0)\n",
            "Requirement already satisfied: MarkupSafe>=2.0 in /usr/local/lib/python3.11/dist-packages (from jinja2->torch-geometric) (3.0.2)\n",
            "Requirement already satisfied: charset-normalizer<4,>=2 in /usr/local/lib/python3.11/dist-packages (from requests->torch-geometric) (3.4.2)\n",
            "Requirement already satisfied: idna<4,>=2.5 in /usr/local/lib/python3.11/dist-packages (from requests->torch-geometric) (3.10)\n",
            "Requirement already satisfied: urllib3<3,>=1.21.1 in /usr/local/lib/python3.11/dist-packages (from requests->torch-geometric) (2.4.0)\n",
            "Requirement already satisfied: certifi>=2017.4.17 in /usr/local/lib/python3.11/dist-packages (from requests->torch-geometric) (2025.4.26)\n",
            "Downloading torch_geometric-2.6.1-py3-none-any.whl (1.1 MB)\n",
            "\u001b[2K   \u001b[90m━━━━━━━━━━━━━━━━━━━━━━━━━━━━━━━━━━━━━━━━\u001b[0m \u001b[32m1.1/1.1 MB\u001b[0m \u001b[31m15.6 MB/s\u001b[0m eta \u001b[36m0:00:00\u001b[0m\n",
            "\u001b[?25hInstalling collected packages: torch-geometric\n",
            "Successfully installed torch-geometric-2.6.1\n"
          ]
        }
      ]
    },
    {
      "cell_type": "code",
      "source": [
        "!pip install rdkit"
      ],
      "metadata": {
        "colab": {
          "base_uri": "https://localhost:8080/"
        },
        "id": "_CJb344P2-ql",
        "outputId": "c8ca19ab-39a6-4d1f-abda-01254c7d0d9c"
      },
      "execution_count": 26,
      "outputs": [
        {
          "output_type": "stream",
          "name": "stdout",
          "text": [
            "Collecting rdkit\n",
            "  Downloading rdkit-2025.3.2-cp311-cp311-manylinux_2_28_x86_64.whl.metadata (4.0 kB)\n",
            "Requirement already satisfied: numpy in /usr/local/lib/python3.11/dist-packages (from rdkit) (2.0.2)\n",
            "Requirement already satisfied: Pillow in /usr/local/lib/python3.11/dist-packages (from rdkit) (11.2.1)\n",
            "Downloading rdkit-2025.3.2-cp311-cp311-manylinux_2_28_x86_64.whl (35.2 MB)\n",
            "\u001b[2K   \u001b[90m━━━━━━━━━━━━━━━━━━━━━━━━━━━━━━━━━━━━━━━━\u001b[0m \u001b[32m35.2/35.2 MB\u001b[0m \u001b[31m49.9 MB/s\u001b[0m eta \u001b[36m0:00:00\u001b[0m\n",
            "\u001b[?25hInstalling collected packages: rdkit\n",
            "Successfully installed rdkit-2025.3.2\n"
          ]
        }
      ]
    },
    {
      "cell_type": "markdown",
      "source": [
        "### 1. Create a protein-protein interaction network"
      ],
      "metadata": {
        "id": "FjYWzDXTH1u5"
      }
    },
    {
      "cell_type": "code",
      "source": [
        "!wget https://ftp.uniprot.org/pub/databases/uniprot/current_release/knowledgebase/complete/uniprot_sprot.dat.gz"
      ],
      "metadata": {
        "colab": {
          "base_uri": "https://localhost:8080/"
        },
        "id": "zX55LyCPDvaO",
        "outputId": "405d73df-9cd7-4fc6-fcc0-d863e01b6491"
      },
      "execution_count": 2,
      "outputs": [
        {
          "output_type": "stream",
          "name": "stdout",
          "text": [
            "--2025-05-13 13:10:02--  https://ftp.uniprot.org/pub/databases/uniprot/current_release/knowledgebase/complete/uniprot_sprot.dat.gz\n",
            "Resolving ftp.uniprot.org (ftp.uniprot.org)... 128.175.240.195\n",
            "Connecting to ftp.uniprot.org (ftp.uniprot.org)|128.175.240.195|:443... connected.\n",
            "HTTP request sent, awaiting response... 200 OK\n",
            "Length: 682638053 (651M) [application/x-gzip]\n",
            "Saving to: ‘uniprot_sprot.dat.gz’\n",
            "\n",
            "uniprot_sprot.dat.g 100%[===================>] 651.01M  62.7MB/s    in 11s     \n",
            "\n",
            "2025-05-13 13:10:13 (60.0 MB/s) - ‘uniprot_sprot.dat.gz’ saved [682638053/682638053]\n",
            "\n"
          ]
        }
      ]
    },
    {
      "cell_type": "code",
      "source": [
        "!wget https://downloads.thebiogrid.org/Download/BioGRID/Latest-Release/BIOGRID-ORGANISM-LATEST.mitab.zip"
      ],
      "metadata": {
        "colab": {
          "base_uri": "https://localhost:8080/"
        },
        "id": "Dm_78-sLD177",
        "outputId": "1721fc79-4959-4b85-cc91-545f1e62bfbf"
      },
      "execution_count": 3,
      "outputs": [
        {
          "output_type": "stream",
          "name": "stdout",
          "text": [
            "--2025-05-13 13:10:13--  https://downloads.thebiogrid.org/Download/BioGRID/Latest-Release/BIOGRID-ORGANISM-LATEST.mitab.zip\n",
            "Resolving downloads.thebiogrid.org (downloads.thebiogrid.org)... 173.255.198.187\n",
            "Connecting to downloads.thebiogrid.org (downloads.thebiogrid.org)|173.255.198.187|:443... connected.\n",
            "HTTP request sent, awaiting response... 200 OK\n",
            "Length: unspecified [application/download]\n",
            "Saving to: ‘BIOGRID-ORGANISM-LATEST.mitab.zip’\n",
            "\n",
            "BIOGRID-ORGANISM-LA     [             <=>    ] 171.47M  67.6MB/s    in 2.5s    \n",
            "\n",
            "2025-05-13 13:10:16 (67.6 MB/s) - ‘BIOGRID-ORGANISM-LATEST.mitab.zip’ saved [179801435]\n",
            "\n"
          ]
        }
      ]
    },
    {
      "cell_type": "code",
      "source": [
        "!unzip -p BIOGRID-ORGANISM-LATEST.mitab.zip BIOGRID-ORGANISM-Homo_sapiens-4.4.245.mitab.txt > BIOGRID-ORGANISM-Homo_sapiens-4.4.245.mitab.txt"
      ],
      "metadata": {
        "id": "0h4_sauYD4a4"
      },
      "execution_count": 6,
      "outputs": []
    },
    {
      "cell_type": "code",
      "source": [
        "!wget https://reactome.org/download/current/interactors/reactome.homo_sapiens.interactions.psi-mitab.txt"
      ],
      "metadata": {
        "colab": {
          "base_uri": "https://localhost:8080/"
        },
        "id": "SIn8J_KlEEOj",
        "outputId": "5a7567de-dba6-4ea9-82f9-0d6133f4e129"
      },
      "execution_count": 7,
      "outputs": [
        {
          "output_type": "stream",
          "name": "stdout",
          "text": [
            "--2025-05-13 13:12:56--  https://reactome.org/download/current/interactors/reactome.homo_sapiens.interactions.psi-mitab.txt\n",
            "Resolving reactome.org (reactome.org)... 100.25.71.177\n",
            "Connecting to reactome.org (reactome.org)|100.25.71.177|:443... connected.\n",
            "HTTP request sent, awaiting response... 200 OK\n",
            "Length: 184341247 (176M) [text/plain]\n",
            "Saving to: ‘reactome.homo_sapiens.interactions.psi-mitab.txt’\n",
            "\n",
            "reactome.homo_sapie 100%[===================>] 175.80M  55.8MB/s    in 3.3s    \n",
            "\n",
            "2025-05-13 13:12:59 (53.3 MB/s) - ‘reactome.homo_sapiens.interactions.psi-mitab.txt’ saved [184341247/184341247]\n",
            "\n"
          ]
        }
      ]
    },
    {
      "cell_type": "code",
      "source": [
        "!git clone https://github.com/jjjk123/GBA-centrality.git"
      ],
      "metadata": {
        "colab": {
          "base_uri": "https://localhost:8080/"
        },
        "id": "wo3AsFEBEUp6",
        "outputId": "f9248048-fe15-4120-8911-b22e22485c86"
      },
      "execution_count": 8,
      "outputs": [
        {
          "output_type": "stream",
          "name": "stdout",
          "text": [
            "Cloning into 'GBA-centrality'...\n",
            "remote: Enumerating objects: 527, done.\u001b[K\n",
            "remote: Counting objects: 100% (153/153), done.\u001b[K\n",
            "remote: Compressing objects: 100% (101/101), done.\u001b[K\n",
            "remote: Total 527 (delta 67), reused 74 (delta 52), pack-reused 374 (from 1)\u001b[K\n",
            "Receiving objects: 100% (527/527), 5.60 MiB | 11.50 MiB/s, done.\n",
            "Resolving deltas: 100% (315/315), done.\n"
          ]
        }
      ]
    },
    {
      "cell_type": "code",
      "source": [
        "!gunzip -c uniprot_sprot.dat.gz | python GBA-centrality/Interactome/uniprot_parser.py > uniprot_parsed.tsv"
      ],
      "metadata": {
        "colab": {
          "base_uri": "https://localhost:8080/"
        },
        "id": "fqq8EWGsJ9m4",
        "outputId": "87b39b34-9bdc-47d2-c296-7fc9f61fc239"
      },
      "execution_count": 9,
      "outputs": [
        {
          "output_type": "stream",
          "name": "stdout",
          "text": [
            "2025-05-13 13:13:12 INFO uniprot_parser.py: Starting to run\n",
            "2025-05-13 13:20:31 INFO uniprot_parser.py: All done, completed successfully!\n"
          ]
        }
      ]
    },
    {
      "cell_type": "code",
      "source": [
        "!python GBA-centrality/Interactome/interaction_parser.py --interaction_file BIOGRID-ORGANISM-Homo_sapiens*.mitab.txt --uniprot_file uniprot_parsed.tsv > interactions_Biogrid.tsv"
      ],
      "metadata": {
        "colab": {
          "base_uri": "https://localhost:8080/"
        },
        "id": "JK9q7G8lJNhx",
        "outputId": "9f30daf2-2e59-451a-bb02-bbd2601670fa"
      },
      "execution_count": 10,
      "outputs": [
        {
          "output_type": "stream",
          "name": "stdout",
          "text": [
            "2025-05-13 13:20:31 INFO interaction_parser.py: Parsing Uniprot file\n",
            "2025-05-13 13:20:31 INFO interaction_parser.py: Parsing interaction file\n",
            "2025-05-13 13:20:31 INFO interaction_parser.py: Done!\n"
          ]
        }
      ]
    },
    {
      "cell_type": "code",
      "source": [
        "!python GBA-centrality/Interactome/interaction_parser.py --interaction_file reactome.homo_sapiens.interactions.psi-mitab.txt --uniprot_file uniprot_parsed.tsv > interactions_Reactome.tsv"
      ],
      "metadata": {
        "colab": {
          "base_uri": "https://localhost:8080/"
        },
        "id": "nAq212glJR2U",
        "outputId": "1ecb1a43-695e-4dbe-cd27-df95c6d1580c"
      },
      "execution_count": 11,
      "outputs": [
        {
          "output_type": "stream",
          "name": "stdout",
          "text": [
            "2025-05-13 13:20:31 INFO interaction_parser.py: Parsing Uniprot file\n",
            "2025-05-13 13:20:31 INFO interaction_parser.py: Parsing interaction file\n",
            "2025-05-13 13:20:33 INFO interaction_parser.py: Done!\n"
          ]
        }
      ]
    },
    {
      "cell_type": "code",
      "source": [
        "!python GBA-centrality/Interactome/build_interactome.py \\\n",
        "  --interactions_parsed_files interactions_Biogrid.tsv interactions_Reactome.tsv \\\n",
        "  --uniprot_file uniprot_parsed.tsv > interactome_human.sif"
      ],
      "metadata": {
        "colab": {
          "base_uri": "https://localhost:8080/"
        },
        "id": "PzRqAwyEJzvB",
        "outputId": "973c5bf2-e582-40ca-cb1c-70fe2c54e781"
      },
      "execution_count": 12,
      "outputs": [
        {
          "output_type": "stream",
          "name": "stdout",
          "text": [
            "2025-05-13 13:20:34 INFO build_interactome.py: Parsing Uniprot file\n",
            "2025-05-13 13:20:34 INFO build_interactome.py: Parsing interaction files\n",
            "2025-05-13 13:20:35 INFO build_interactome.py: Removing protein hubs\n",
            "2025-05-13 13:20:35 INFO build_interactome.py: Printing interactome\n",
            "2025-05-13 13:20:35 INFO build_interactome.py: Done!\n"
          ]
        }
      ]
    },
    {
      "cell_type": "markdown",
      "source": [
        "### 2. Test the first GNN: XGDAG"
      ],
      "metadata": {
        "id": "9VsonC2PH61t"
      }
    },
    {
      "cell_type": "code",
      "source": [
        "!git clone https://github.com/GiDeCarlo/XGDAG.git"
      ],
      "metadata": {
        "colab": {
          "base_uri": "https://localhost:8080/"
        },
        "id": "FHLk7j9qKI6D",
        "outputId": "98ce74a9-7c36-4773-c8df-21e69449c113"
      },
      "execution_count": 13,
      "outputs": [
        {
          "output_type": "stream",
          "name": "stdout",
          "text": [
            "Cloning into 'XGDAG'...\n",
            "remote: Enumerating objects: 2841, done.\u001b[K\n",
            "remote: Counting objects: 100% (71/71), done.\u001b[K\n",
            "remote: Compressing objects: 100% (55/55), done.\u001b[K\n",
            "remote: Total 2841 (delta 28), reused 50 (delta 15), pack-reused 2770 (from 1)\u001b[K\n",
            "Receiving objects: 100% (2841/2841), 210.69 MiB | 22.00 MiB/s, done.\n",
            "Resolving deltas: 100% (1165/1165), done.\n",
            "Updating files: 100% (1360/1360), done.\n"
          ]
        }
      ]
    },
    {
      "cell_type": "code",
      "source": [
        "import os\n",
        "import yaml\n",
        "\n",
        "with open(\"/content/XGDAG/CondaEnvs/xgdag_environment.yml\") as file_handle:\n",
        "    environment_data = yaml.safe_load(file_handle)\n",
        "\n",
        "for dependency in environment_data[\"dependencies\"]:\n",
        "    if isinstance(dependency, dict):\n",
        "      for lib in dependency['pip']:\n",
        "        os.system(f\"pip install {lib}\")"
      ],
      "metadata": {
        "id": "zyqVJQ5O4FrH"
      },
      "execution_count": 30,
      "outputs": []
    },
    {
      "cell_type": "code",
      "source": [
        "!python XGDAG/ComputeRankingScript.py\n",
        "\n",
        "# error ModuleNotFoundError: No module named 'SubgraphXshapley'"
      ],
      "metadata": {
        "colab": {
          "base_uri": "https://localhost:8080/"
        },
        "id": "vy_zOl9o1pKA",
        "outputId": "2fb7281f-e905-4984-b22a-17a542b94ab3"
      },
      "execution_count": null,
      "outputs": [
        {
          "output_type": "stream",
          "name": "stdout",
          "text": [
            "Traceback (most recent call last):\n",
            "  File \"/content/XGDAG/ComputeRankingScript.py\", line 4, in <module>\n",
            "    from GDARanking import predict_candidate_genes\n",
            "  File \"/content/XGDAG/GDARanking.py\", line 20, in <module>\n",
            "    from SubgraphX import SubgraphX\n",
            "  File \"/content/XGDAG/SubgraphX/SubgraphX.py\", line 21, in <module>\n",
            "    from SubgraphXshapley import GnnNetsGC2valueFunc, GnnNetsNC2valueFunc, \\\n",
            "ModuleNotFoundError: No module named 'SubgraphXshapley'\n"
          ]
        }
      ]
    },
    {
      "cell_type": "code",
      "source": [],
      "metadata": {
        "id": "4jz5HIdzID5F"
      },
      "execution_count": null,
      "outputs": []
    }
  ]
}